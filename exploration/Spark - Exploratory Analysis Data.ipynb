{
 "cells": [
  {
   "cell_type": "code",
   "execution_count": 4,
   "metadata": {},
   "outputs": [],
   "source": [
    "import pandas as pd\n",
    "import seaborn as sns\n",
    "import matplotlib.pyplot as plt\n",
    "import numpy as np\n",
    "%matplotlib inline"
   ]
  },
  {
   "cell_type": "markdown",
   "metadata": {},
   "source": [
    "## Load the data and sample a part to have as 'train' data"
   ]
  },
  {
   "cell_type": "code",
   "execution_count": 6,
   "metadata": {},
   "outputs": [],
   "source": [
    "airports_full = pd.read_csv(\"../../1990.csv\")\n",
    "airports_full = airports_full.drop([\"ArrTime\", \"ActualElapsedTime\", \"AirTime\", \"TaxiIn\", \"Diverted\", \"CarrierDelay\",\n",
    "                         \"WeatherDelay\", \"NASDelay\", \"SecurityDelay\", \"LateAircraftDelay\"], axis=1)\n",
    "airports = airports_full.sample(frac=0.9, replace=False, random_state=42)"
   ]
  },
  {
   "cell_type": "code",
   "execution_count": null,
   "metadata": {
    "scrolled": true
   },
   "outputs": [],
   "source": [
    "airports.count()"
   ]
  },
  {
   "cell_type": "code",
   "execution_count": null,
   "metadata": {},
   "outputs": [],
   "source": [
    "for col in airports.columns:\n",
    "    print(col, len(airports[col].unique())) "
   ]
  },
  {
   "cell_type": "code",
   "execution_count": null,
   "metadata": {},
   "outputs": [],
   "source": [
    "airports[airports['Cancelled'] == 1]"
   ]
  },
  {
   "cell_type": "code",
   "execution_count": null,
   "metadata": {},
   "outputs": [],
   "source": [
    "print((airports[airports['Cancelled'] == 1].count()/airports['ArrDelay'].isnull().sum())['Year'], \"\"\"% of nulls in \n",
    "      arrdelay is because of cancellation.\"\"\")\n"
   ]
  },
  {
   "cell_type": "code",
   "execution_count": null,
   "metadata": {},
   "outputs": [],
   "source": [
    "# What to do with next instances?\n",
    "airports[(airports['Cancelled'] == 0) & (airports['ArrDelay'].isnull())]"
   ]
  },
  {
   "cell_type": "code",
   "execution_count": null,
   "metadata": {},
   "outputs": [],
   "source": [
    "# Flightnums are used by different carriers to identify their trips. \n",
    "airports_full[airports_full['FlightNum'] == 1423].sort_values(by='Month', inplace=False)"
   ]
  },
  {
   "cell_type": "code",
   "execution_count": null,
   "metadata": {},
   "outputs": [],
   "source": []
  },
  {
   "cell_type": "markdown",
   "metadata": {},
   "source": [
    "## Select factors based on correlations"
   ]
  },
  {
   "cell_type": "code",
   "execution_count": null,
   "metadata": {},
   "outputs": [],
   "source": [
    "corr_matrix = airports.corr()"
   ]
  },
  {
   "cell_type": "code",
   "execution_count": null,
   "metadata": {},
   "outputs": [],
   "source": [
    "corr_matrix['ArrDelay'].sort_values()"
   ]
  },
  {
   "cell_type": "code",
   "execution_count": null,
   "metadata": {},
   "outputs": [],
   "source": [
    "# Check the scatterplot\n",
    "sns.scatterplot(data=airports, x= 'DepDelay', y = 'ArrDelay')\n",
    "plt.show()"
   ]
  },
  {
   "cell_type": "code",
   "execution_count": null,
   "metadata": {},
   "outputs": [],
   "source": [
    "sns.scatterplot(data=airports, x= 'Distance', y = 'ArrDelay')\n",
    "plt.show()"
   ]
  },
  {
   "cell_type": "code",
   "execution_count": null,
   "metadata": {},
   "outputs": [],
   "source": [
    "airports['ResDelay'] = airports['ArrDelay'] - airports['DepDelay']\n",
    "sns.scatterplot(data=airports, x= 'Distance', y = 'ResDelay')\n",
    "plt.show()"
   ]
  },
  {
   "cell_type": "markdown",
   "metadata": {},
   "source": [
    "## Variables based on categories\n",
    "For example day of week can be seen as category. Weekends can be more busy. As is shown in data as well by second plot with mean of delay per day.\n",
    "The errors in the plots are the standard error of the mean, defined as:\n",
    "$$ \\sigma_{\\bar{x}} = \\frac{\\sigma}{\\sqrt{n}}$$\n",
    "In each of the categories there seems to be a difference. \n",
    "I have created a new variable called \"ResDelay\", this is a residual delay after subtracting the departure delay from the arrival delay. It could for example be that one company always departs before planned time and therefore has low arrival delays. Plots are made for different variables."
   ]
  },
  {
   "cell_type": "code",
   "execution_count": null,
   "metadata": {},
   "outputs": [],
   "source": [
    "def plot_with_error_bars(x, y, data=airports):\n",
    "    \"\"\"Function that plots data with the mean of y grouped by the values of x\"\"\"\n",
    "    \n",
    "    grouped_month = data.groupby(x).agg([np.mean, np.std, 'count'])[y]\n",
    "    # Standard error of mean is defined as std / sqrt(n) \n",
    "    grouped_month['error'] = grouped_month['std'] / np.sqrt(grouped_month['count'])\n",
    "    \n",
    "    if type(x) == str: \n",
    "        title = y + \" by \" + x\n",
    "    else:\n",
    "        title = y + \" by \" + \" and \".join(x)\n",
    "    grouped_month.plot(kind = \"bar\", y = \"mean\", legend = False,  \n",
    "              yerr = \"error\", title = title)\n",
    "    plt.show()"
   ]
  },
  {
   "cell_type": "code",
   "execution_count": null,
   "metadata": {},
   "outputs": [],
   "source": [
    "sns.boxplot(data=airports, x= 'DayOfWeek', y = 'ArrDelay')\n",
    "plt.show()\n",
    "plot_with_error_bars(x='DayOfWeek', y='ArrDelay')\n",
    "plot_with_error_bars(x='DayOfWeek', y='ResDelay')"
   ]
  },
  {
   "cell_type": "code",
   "execution_count": null,
   "metadata": {},
   "outputs": [],
   "source": [
    "plot_with_error_bars(x='Month', y='ArrDelay')\n",
    "plot_with_error_bars(x='Month', y='ResDelay')"
   ]
  },
  {
   "cell_type": "code",
   "execution_count": null,
   "metadata": {},
   "outputs": [],
   "source": [
    "plot_with_error_bars(x='UniqueCarrier', y='ArrDelay')\n",
    "plot_with_error_bars(x='UniqueCarrier', y='ResDelay')"
   ]
  },
  {
   "cell_type": "code",
   "execution_count": null,
   "metadata": {},
   "outputs": [],
   "source": [
    "plot_with_error_bars(x='DayofMonth', y=\"ArrDelay\")\n",
    "plot_with_error_bars(x='DayofMonth', y=\"ResDelay\")\n"
   ]
  },
  {
   "cell_type": "code",
   "execution_count": null,
   "metadata": {},
   "outputs": [],
   "source": [
    "airports['DepHour'] = airports[\"CRSDepTime\"]//100\n",
    "\n",
    "plot_with_error_bars(x='DepHour', y=\"ArrDelay\")\n",
    "plot_with_error_bars(x='DepHour', y=\"ResDelay\")\n"
   ]
  },
  {
   "cell_type": "code",
   "execution_count": null,
   "metadata": {},
   "outputs": [],
   "source": [
    "airports['ArrHour'] = airports[\"CRSArrTime\"]//100\n",
    "\n",
    "plot_with_error_bars(x='ArrHour', y=\"ArrDelay\")\n",
    "plot_with_error_bars(x='ArrHour', y=\"ResDelay\")\n"
   ]
  },
  {
   "cell_type": "markdown",
   "metadata": {},
   "source": [
    "Below are some plots that are not very clear, but there seem to be some difference between origin and destinations. "
   ]
  },
  {
   "cell_type": "code",
   "execution_count": null,
   "metadata": {},
   "outputs": [],
   "source": [
    "plot_with_error_bars(x='Origin', y=\"ArrDelay\")\n",
    "plot_with_error_bars(x='Origin', y=\"ResDelay\")"
   ]
  },
  {
   "cell_type": "code",
   "execution_count": null,
   "metadata": {},
   "outputs": [],
   "source": [
    "plot_with_error_bars(x='Dest', y=\"ArrDelay\")\n",
    "plot_with_error_bars(x='Dest', y=\"ResDelay\")"
   ]
  },
  {
   "cell_type": "code",
   "execution_count": null,
   "metadata": {},
   "outputs": [],
   "source": [
    "plot_with_error_bars(x=['UniqueCarrier', 'DayOfWeek'] , y='ArrDelay')\n",
    "plot_with_error_bars(x=['UniqueCarrier', 'DayOfWeek'], y='ResDelay')"
   ]
  },
  {
   "cell_type": "code",
   "execution_count": null,
   "metadata": {},
   "outputs": [],
   "source": [
    "sns.scatterplot(data=airports_df, x= 'TaxiOut', y = 'ArrDelay')\n",
    "plt.show()"
   ]
  },
  {
   "cell_type": "code",
   "execution_count": null,
   "metadata": {},
   "outputs": [],
   "source": [
    "airports_df['ResDelay'] = airports_df['ArrDelay'] - airports_df['DepDelay']\n",
    "sns.scatterplot(data=airports_df, x= 'TaxiOut', y = 'ResDelay')\n",
    "plt.show()"
   ]
  },
  {
   "cell_type": "code",
   "execution_count": null,
   "metadata": {},
   "outputs": [],
   "source": []
  },
  {
   "cell_type": "code",
   "execution_count": null,
   "metadata": {},
   "outputs": [],
   "source": []
  },
  {
   "cell_type": "code",
   "execution_count": null,
   "metadata": {},
   "outputs": [],
   "source": []
  },
  {
   "cell_type": "code",
   "execution_count": null,
   "metadata": {},
   "outputs": [],
   "source": []
  },
  {
   "cell_type": "code",
   "execution_count": null,
   "metadata": {},
   "outputs": [],
   "source": []
  }
 ],
 "metadata": {
  "kernelspec": {
   "display_name": "Python 3",
   "language": "python",
   "name": "python3"
  },
  "language_info": {
   "codemirror_mode": {
    "name": "ipython",
    "version": 3
   },
   "file_extension": ".py",
   "mimetype": "text/x-python",
   "name": "python",
   "nbconvert_exporter": "python",
   "pygments_lexer": "ipython3",
   "version": "3.7.6"
  }
 },
 "nbformat": 4,
 "nbformat_minor": 4
}
