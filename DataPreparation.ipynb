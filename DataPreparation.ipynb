{
 "cells": [
  {
   "cell_type": "markdown",
   "metadata": {},
   "source": [
    "# Tasks\n",
    "- Drop a variable with too many null values\n",
    "- Replace null values of the variables we would like to add on the ML model\n",
    "- Minimize the dimensions of the variables\n"
   ]
  },
  {
   "cell_type": "code",
   "execution_count": 1,
   "metadata": {},
   "outputs": [],
   "source": [
    "import pandas as pd\n",
    "import seaborn as sns\n",
    "import matplotlib.pyplot as plt\n",
    "import numpy as np\n",
    "import scipy.stats as stats\n",
    "\n",
    "%matplotlib inline"
   ]
  },
  {
   "cell_type": "markdown",
   "metadata": {},
   "source": [
    "# Load the data: "
   ]
  },
  {
   "cell_type": "code",
   "execution_count": null,
   "metadata": {},
   "outputs": [],
   "source": [
    "airports_df = pd.read_csv('../2008.csv')\n",
    "airports_df"
   ]
  },
  {
   "cell_type": "markdown",
   "metadata": {},
   "source": [
    "# Drop the variables that we don't need: "
   ]
  },
  {
   "cell_type": "code",
   "execution_count": null,
   "metadata": {},
   "outputs": [],
   "source": [
    "airports_df = airports_df.drop([\"ArrTime\", \"ActualElapsedTime\", \"AirTime\", \"TaxiIn\", \"Diverted\", \"CarrierDelay\",\n",
    "                         \"WeatherDelay\", \"NASDelay\", \"SecurityDelay\", \"LateAircraftDelay\"], axis=1)\n",
    "airports_df"
   ]
  },
  {
   "cell_type": "markdown",
   "metadata": {},
   "source": [
    "# 1) Feature Engineering\n",
    "## 1. Handling missing values\n",
    "## 1.1. Locating missing values"
   ]
  },
  {
   "cell_type": "code",
   "execution_count": null,
   "metadata": {},
   "outputs": [],
   "source": [
    "airports_df.isnull().any()"
   ]
  },
  {
   "cell_type": "code",
   "execution_count": null,
   "metadata": {},
   "outputs": [],
   "source": [
    "airports_df.isnull().sum() "
   ]
  },
  {
   "cell_type": "markdown",
   "metadata": {},
   "source": [
    "## 1.2. Dropping the `CancellationCode` variable"
   ]
  },
  {
   "cell_type": "code",
   "execution_count": null,
   "metadata": {},
   "outputs": [],
   "source": [
    "threshold = 0.9\n",
    "columns_with_null = airports_df.columns[airports_df.isnull().mean() > threshold] \n",
    "rows_with_null = airports_df.loc[airports_df.isnull().mean(axis=1) > threshold] "
   ]
  },
  {
   "cell_type": "code",
   "execution_count": null,
   "metadata": {},
   "outputs": [],
   "source": [
    "columns_with_null"
   ]
  },
  {
   "cell_type": "code",
   "execution_count": null,
   "metadata": {},
   "outputs": [],
   "source": [
    "rows_with_null"
   ]
  },
  {
   "cell_type": "markdown",
   "metadata": {},
   "source": [
    "<span style=\"color:blue\"> <b> Drop `CancellationCode` due to its too many null data over the threshold (0.9) </b> </span>."
   ]
  },
  {
   "cell_type": "code",
   "execution_count": null,
   "metadata": {},
   "outputs": [],
   "source": [
    "airports_df.drop(\"CancellationCode\", axis=1, inplace=True)"
   ]
  },
  {
   "cell_type": "markdown",
   "metadata": {},
   "source": [
    "## 1.3. Dropping the rows where the `cancelled` is `True`"
   ]
  },
  {
   "cell_type": "markdown",
   "metadata": {},
   "source": [
    "Checking the relation among `DepTime`, `DepDelay`,  `TaxiOut`"
   ]
  },
  {
   "cell_type": "code",
   "execution_count": null,
   "metadata": {},
   "outputs": [],
   "source": [
    "cancelled_flights = airports_df[airports_df['Cancelled']==1]\n",
    "cancelled_flights.shape[0]"
   ]
  },
  {
   "cell_type": "code",
   "execution_count": null,
   "metadata": {},
   "outputs": [],
   "source": [
    "cancelled_flights.isnull().sum() / airports_df.isnull().sum() "
   ]
  },
  {
   "cell_type": "markdown",
   "metadata": {},
   "source": [
    "Therefore, all the null values in `DepTime`, `DepDelay`,  `TaxiOut` are in cancelled flights (`cancelled` == 1). <br>\n",
    "Most(over 90%) of the null values in `TailNum`, `ArrDelay`, `ResDelay` are in cacnelled flights (`cancelled` == 1)."
   ]
  },
  {
   "cell_type": "code",
   "execution_count": null,
   "metadata": {},
   "outputs": [],
   "source": [
    "cancelled_flights[cancelled_flights['ArrDelay'].notnull()].empty"
   ]
  },
  {
   "cell_type": "markdown",
   "metadata": {},
   "source": [
    "No cancelled flights have `ArrDelay` variable (target variable); therefore, cancelled flights should be dropped. <br>\n",
    "<span style=\"color:blue\"> <b> Drop rows where `Cancellation` is `True`</b> </span>."
   ]
  },
  {
   "cell_type": "code",
   "execution_count": null,
   "metadata": {},
   "outputs": [],
   "source": [
    "airports_df = airports_df[airports_df['Cancelled'] == 0]"
   ]
  },
  {
   "cell_type": "markdown",
   "metadata": {},
   "source": [
    "<span style=\"color:blue\"> <b> Drop the variable `Cancellation`, because all the values are `False` </b> </span>."
   ]
  },
  {
   "cell_type": "code",
   "execution_count": null,
   "metadata": {},
   "outputs": [],
   "source": [
    "airports_df.pop('Cancelled', axis=1)"
   ]
  },
  {
   "cell_type": "markdown",
   "metadata": {},
   "source": [
    "## 1.4. Dropping the rows where the `ArrDelay` is null"
   ]
  },
  {
   "cell_type": "markdown",
   "metadata": {},
   "source": [
    "Since `ArrDelay` is our target variable, rows with null values in `ArrDelay` should be dropped."
   ]
  },
  {
   "cell_type": "code",
   "execution_count": null,
   "metadata": {},
   "outputs": [],
   "source": [
    "airports_df = airports_df.dropna(subset=['ArrDelay'])"
   ]
  },
  {
   "cell_type": "code",
   "execution_count": null,
   "metadata": {},
   "outputs": [],
   "source": [
    "airports_df.isnull().sum()"
   ]
  },
  {
   "cell_type": "markdown",
   "metadata": {},
   "source": [
    "<span style=\"color:blue\"> <b> In conclusion, we dropped a variable `CancellationCode` and rows with null value in `Cancellation`, `ArrDelay`.</b> </span>. "
   ]
  },
  {
   "cell_type": "code",
   "execution_count": null,
   "metadata": {},
   "outputs": [],
   "source": [
    "airports_df.shape"
   ]
  },
  {
   "cell_type": "markdown",
   "metadata": {},
   "source": [
    "## 1.2. Treat categorical variables: "
   ]
  },
  {
   "cell_type": "markdown",
   "metadata": {},
   "source": [
    "## 1.2.1. Converting time-relevant columns into one `datetime` field"
   ]
  },
  {
   "cell_type": "markdown",
   "metadata": {},
   "source": [
    "Though `DepTime`, `CRSDepTime`, `CRSArrTime` looks numerical, they are categorical values in a format of 'HH:mm'"
   ]
  },
  {
   "cell_type": "code",
   "execution_count": null,
   "metadata": {},
   "outputs": [],
   "source": [
    "def merge_datetime_columns(df):\n",
    "    if 'DepTS' in df and 'CSRDepTS' in df:\n",
    "        return df\n",
    "\n",
    "    temp_ts = df[[\"Year\", \"Month\", \"DayofMonth\"]].astype(str).copy()\n",
    "    \n",
    "    # Actual departure time\n",
    "    temp_ts['Hour'] = (df[\"DepTime\"] // 100).astype(int).astype(str)\n",
    "    temp_ts['Minute'] = (df[\"DepTime\"] % 100).astype(int).astype(str)\n",
    "    temp_ts['Time'] = temp_ts['Year'] + '-' + temp_ts['Month'] + '-' + temp_ts['DayofMonth'] + ' ' \\\n",
    "                    + temp_ts['Hour'] + ':' + temp_ts['Minute']\n",
    "    temp_ts['DepTS'] = pd.to_datetime(temp_ts['Time'], format='%Y-%m-%d %H:%M', errors='coerce')\n",
    "\n",
    "    # Scheduled departure time\n",
    "    temp_ts['CSRDepHour'] =  (df[\"CRSDepTime\"] // 100).astype(int).astype(str)\n",
    "    temp_ts['CSRDepMinute'] =  (df[\"CRSDepTime\"] % 100).astype(int).astype(str)\n",
    "    temp_ts['CSRTime'] = temp_ts['Year'] + '-' + temp_ts['Month'] + '-' + temp_ts['DayofMonth'] + ' ' + \\\n",
    "                         temp_ts['CSRDepHour'] + ':' + temp_ts['CSRDepMinute']\n",
    "    temp_ts['CSRDepTS'] = pd.to_datetime(temp_ts['CSRTime'], format='%Y-%m-%d %H:%M', errors='coerce')\n",
    "    \n",
    "    # Scheduled arrival time\n",
    "    \n",
    "    df['DepTS'] = temp_ts['DepTS']\n",
    "    df['CSRDepTS'] = temp_ts['CSRDepTS']\n",
    "    return df"
   ]
  },
  {
   "cell_type": "code",
   "execution_count": null,
   "metadata": {},
   "outputs": [],
   "source": [
    "airports_df = merge_datetime_columns(airports_df)\n",
    "airports_df"
   ]
  },
  {
   "cell_type": "markdown",
   "metadata": {},
   "source": [
    "<span style=\"color:red\"> <b> Arrival date? </b> </span>"
   ]
  },
  {
   "cell_type": "code",
   "execution_count": null,
   "metadata": {},
   "outputs": [],
   "source": [
    "airports_df[airports_df['CRSArrTime'] < airports_df['CRSDepTime']]"
   ]
  },
  {
   "cell_type": "code",
   "execution_count": null,
   "metadata": {},
   "outputs": [],
   "source": [
    "# Split the dataframe: \n",
    "airports_df.dtypes\n",
    "\n",
    "# List categorical variables:\n",
    "cat_mask = (airports_df.dtypes==object)\n",
    "cat_cols = airports_df.columns[cat_mask].tolist()\n",
    "df_cat = airports_df[cat_cols]\n",
    "\n",
    "df_num = airports_df.drop(cat_cols, axis=1)\n",
    "# categorical columns = df_cat\n",
    "# numerical columns = df_num\n",
    "\n",
    "df_cat"
   ]
  },
  {
   "cell_type": "code",
   "execution_count": null,
   "metadata": {},
   "outputs": [],
   "source": [
    "df_num"
   ]
  },
  {
   "cell_type": "code",
   "execution_count": null,
   "metadata": {},
   "outputs": [],
   "source": [
    "# impute column \"CancellationCode\" with variables \"UniqueCarrier\"\n",
    "from sklearn.impute import SimpleImputer\n",
    "\n",
    "imp_cat = SimpleImputer(strategy='most_frequent')\n",
    "\n",
    "df_cat = pd.DataFrame(imp_cat.fit_transform(df_cat),\n",
    "                     columns=df_cat.columns, index=df_cat.index)\n",
    "df_cat"
   ]
  }
 ],
 "metadata": {
  "kernelspec": {
   "display_name": "Python 3",
   "language": "python",
   "name": "python3"
  },
  "language_info": {
   "codemirror_mode": {
    "name": "ipython",
    "version": 3
   },
   "file_extension": ".py",
   "mimetype": "text/x-python",
   "name": "python",
   "nbconvert_exporter": "python",
   "pygments_lexer": "ipython3",
   "version": "3.7.6"
  }
 },
 "nbformat": 4,
 "nbformat_minor": 4
}
